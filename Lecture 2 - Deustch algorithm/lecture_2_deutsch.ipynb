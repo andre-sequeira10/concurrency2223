{
 "cells": [
  {
   "attachments": {},
   "cell_type": "markdown",
   "id": "advance-helmet",
   "metadata": {},
   "source": [
    "##### Concurrency 2021/2022 - Computer Science\n",
    "# Lecture 2 - Deutsch Algorithm\n",
    "\n",
    "1. [Functions and libraries](#review)\n",
    "2. [Balanced vs constant functions](#functions)\n",
    "3. [Deutsch's Algorithm](#Deutsch)\n",
    "3. [Deutsch-Jozsa Algorithm](#Deutsch-jozsa)"
   ]
  },
  {
   "attachments": {},
   "cell_type": "markdown",
   "id": "2572dc42",
   "metadata": {},
   "source": [
    "### 1. Function and libraries"
   ]
  },
  {
   "cell_type": "code",
   "execution_count": 1,
   "id": "6869ae59",
   "metadata": {},
   "outputs": [],
   "source": [
    "from qiskit import QuantumCircuit, ClassicalRegister, QuantumRegister, Aer, execute\n",
    "from qiskit.tools.visualization import plot_histogram, visualize_transition\n",
    "import matplotlib.pyplot as plt\n",
    "import numpy as np"
   ]
  },
  {
   "cell_type": "code",
   "execution_count": 2,
   "id": "60b1154e",
   "metadata": {},
   "outputs": [],
   "source": [
    "def execute_circuit(qc, shots=1024, device=\"qasm\", decimal=False, reversed=False):\n",
    "    \n",
    "    #define backend\n",
    "    if device == \"qasm\":\n",
    "        device = Aer.get_backend('qasm_simulator')\n",
    "        #get counts\n",
    "        counts = execute(qc, device, shots=shots).result().get_counts()\n",
    "        \n",
    "        if decimal:\n",
    "            if reversed:\n",
    "                counts = dict((int(a[::-1],2),b) for (a,b) in counts.items())\n",
    "            else:\n",
    "                counts = dict((int(a,2),b) for (a,b) in counts.items())\n",
    "        else:\n",
    "            if reversed:\n",
    "                counts = dict((a[::-1],b) for (a,b) in counts.items())\n",
    "            else:\n",
    "                counts = dict((a,b) for (a,b) in counts.items())\n",
    "\n",
    "        return counts\n",
    "    \n",
    "    elif device==\"statevector\":\n",
    "        device = Aer.get_backend('statevector_simulator')\n",
    "        state_vector = execute(qc, device).result().get_statevector()\n",
    "\n",
    "        return state_vector"
   ]
  },
  {
   "attachments": {},
   "cell_type": "markdown",
   "id": "eae72d49",
   "metadata": {},
   "source": [
    "### 2. Balanced vs constant boolean functions <a id=\"functions\"></a>\n",
    "\n",
    "Let's consider Boolean function $f:\\{0,1\\} \\rightarrow \\{0,1\\}$ that can either be balanced or constant.\n",
    "\n",
    "- **Constant**: its output is always 0 or always 1\n",
    "- **Balanced**: outputs 0 for half of the input value and 1 for the other half\n",
    "\n",
    "##### <span style=\"color: red;\">Question:</span> - The XOr function is balanced or constant? "
   ]
  },
  {
   "cell_type": "markdown",
   "id": "aa361f48",
   "metadata": {},
   "source": [
    "##### <span style=\"color: red;\">Exercise 3:</span> - Implement a quantum circuit that performs the XOR function on every possible input in superposition "
   ]
  },
  {
   "cell_type": "markdown",
   "id": "d1c064d9",
   "metadata": {},
   "source": [
    "Truth table for the XOr logic gate\n",
    "|x_0|x_1|x_2|        \n",
    "|-|-|-|\n",
    "|0|0|0|\n",
    "|0|1|1|\n",
    "|1|0|1|\n",
    "|1|1|0|"
   ]
  },
  {
   "cell_type": "code",
   "execution_count": 3,
   "id": "583d84e9",
   "metadata": {},
   "outputs": [],
   "source": [
    "def xor_function(ctrl1=0, ctrl2=1, target=2, n_qubits=3):\n",
    "\n",
    "    qc = QuantumCircuit(n_qubits)\n",
    "\n",
    "    #state |10>\n",
    "\n",
    "    #state |01>\n",
    "    \n",
    "    return qc"
   ]
  },
  {
   "cell_type": "code",
   "execution_count": null,
   "id": "789c9520",
   "metadata": {},
   "outputs": [],
   "source": [
    "xor = xor_function()\n",
    "xor.draw(output=\"mpl\")"
   ]
  },
  {
   "cell_type": "markdown",
   "id": "b453734d",
   "metadata": {},
   "source": [
    "Suppose a **classical** algorithm that finds if the function is actually balanced or constant. The algorithm has to run through all the four possible combinations. In average the algorithm has to run through half the combinations in order to discover if the function is balanced .\n",
    "\n",
    "In general, if we have $n$ bit string , we have to check $\\frac{2^n}{2} + 1$. \n",
    "\n",
    "The quantum algorithm from Deutsch promises to find if the function is balanced or constant in a single step! \n",
    "\n",
    "But how ? We have seen that simply acting in superposition does not solve the problem because we will need to run the quantum circuit several times do the stochastic nature! \n",
    "\n",
    "The novel trick of the algorithm is actually collapse the superposition into a deterministic state of interest using INTERFERENCE ! Not possible in classical computing !"
   ]
  },
  {
   "cell_type": "markdown",
   "id": "decent-platform",
   "metadata": {},
   "source": [
    "## 3. Deutsch's algorithm <a id='deutsch'></a>"
   ]
  },
  {
   "cell_type": "markdown",
   "id": "elder-priority",
   "metadata": {},
   "source": [
    "<p align=\"center\">\n",
    "  <img width=\"600\" height=\"200\" src=\"images/deutsch.png\">\n",
    "</p>\n",
    "\n",
    "$U_f$ is our function, usually seen as an oracle, or a black-box function that we want to find if it's balanced or constant"
   ]
  },
  {
   "cell_type": "markdown",
   "id": "115435d0",
   "metadata": {},
   "source": [
    "##### <span style=\"color: red;\">Exercise 4:</span> - Suppose that the black-box function is actually the CNOT function. Implement the full deutsch circuit. "
   ]
  },
  {
   "cell_type": "code",
   "execution_count": 21,
   "id": "heated-there",
   "metadata": {},
   "outputs": [],
   "source": [
    "def U_f(n_qubits=2):\n",
    "\n",
    "    qc = QuantumCircuit(n_qubits+1)\n",
    "\n",
    "    #apply CNOT gate\n",
    "\n",
    "    return qc\n",
    "\n",
    "\n",
    "def deutsch(U_f=None, n_qubits=2):\n",
    "\n",
    "    cr = ClassicalRegister(2)\n",
    "    qr = QuantumRegister(n_qubits)\n",
    "    qc = QuantumCircuit(qr,cr)\n",
    "\n",
    "    # first qubit\n",
    "\n",
    "    #second qubit\n",
    "\n",
    "    qc.barrier()\n",
    "\n",
    "    #compose circuit with U_f\n",
    "    #qc = qc.compose(U_f)\n",
    "\n",
    "    #interference first qubit\n",
    "\n",
    "    #measure the first qubit \n",
    "    \n",
    "    return qc"
   ]
  },
  {
   "cell_type": "markdown",
   "id": "7a9a951b",
   "metadata": {},
   "source": [
    "Create the deutsch circuit"
   ]
  },
  {
   "cell_type": "code",
   "execution_count": null,
   "id": "d44cf4e5",
   "metadata": {},
   "outputs": [],
   "source": [
    "u_f = U_f()\n",
    "qc = deutsch(U_f=u_f)\n",
    "qc.draw(output=\"mpl\")"
   ]
  },
  {
   "cell_type": "markdown",
   "id": "9208bb68",
   "metadata": {},
   "source": [
    "Execute the circuit and see the result"
   ]
  },
  {
   "cell_type": "code",
   "execution_count": null,
   "id": "b4a1b5be",
   "metadata": {},
   "outputs": [],
   "source": [
    "#qasm_backed = Aer.get_backend(\"qasm_simulator\")\n",
    "#result = execute(qc, qasm_backed, shots=1024).result()\n",
    "#counts = result.get_counts()\n",
    "\n",
    "counts = execute_circuit(qc, shots=1024)\n",
    "plot_histogram(counts)"
   ]
  },
  {
   "cell_type": "markdown",
   "id": "fac95a3c",
   "metadata": {},
   "source": [
    "What happens if we have the identity as $U_f$? Now, we have a constant function. Test and see what is the result. \n",
    "\n",
    "Do you noticed what happened? \n",
    "\n",
    "* If we have a **constant** function we measure the state $|0\\rangle$ with certainty\n",
    "* if we have **balanced** function we measure the state $|1\\rangle$ with probability 1 !! \n",
    "\n",
    "##### why ? Let's go step by step\n"
   ]
  },
  {
   "cell_type": "markdown",
   "id": "77432988",
   "metadata": {},
   "source": [
    "1) Initial state - $|00\\rangle$\n",
    "2) Create uniform superposition in the first qubit ------> $(H \\otimes I) |00\\rangle $\n",
    "    $$ \\frac{1}{\\sqrt{2}}( |0\\rangle + |1\\rangle ) |0\\rangle = \\frac{1}{\\sqrt{2}}( |00\\rangle + |10\\rangle)$$\n",
    "3) Apply $x$ gate to the second qubit - $(I \\otimes X) \\frac{1}{\\sqrt{2}}( |00\\rangle + |10\\rangle)$\n",
    "   $$ \\frac{1}{\\sqrt{2}}( |01\\rangle + |11\\rangle) $$\n",
    "4) Create uniform superposition in the second qubit (attention to the signs !) ----->  $(I \\otimes H) \\frac{1}{\\sqrt{2}}( |01\\rangle + |11\\rangle) $\n",
    "   \n",
    "$$H = \n",
    "\\frac{1}{\\sqrt{2}}\\begin{pmatrix}\n",
    "1 & 1\\\\\n",
    "1 & -1\n",
    "\\end{pmatrix}\n",
    "$$\n",
    "\n",
    "$$ \\frac{1}{\\sqrt{2}}( |0\\rangle \\frac{1}{\\sqrt{2}}( |0\\rangle - |1\\rangle ) + |1\\rangle \\frac{1}{\\sqrt{2}}( |0\\rangle - |1\\rangle )) = \\frac{1}{2}(|00\\rangle - |01\\rangle + |10\\rangle - |11\\rangle)$$\n",
    "\n",
    "5) Apply $U_f = I$ - $I(\\frac{1}{2}(|00\\rangle - |01\\rangle + |10\\rangle - |11\\rangle))$\n",
    "\n",
    "    $$ \\frac{1}{2}(|00\\rangle - |01\\rangle + |10\\rangle - |11\\rangle))$$\n",
    "\n",
    "6) Apply hadamard to the first qubit ----> $(H \\otimes I) \\frac{1}{2}(|00\\rangle - |01\\rangle + |10\\rangle - |11\\rangle))$\n",
    "\n",
    "    $$\\frac{1}{2}\\left[\\frac{1}{\\sqrt{2}}( |0\\rangle + |1\\rangle ) |0\\rangle - \\frac{1}{\\sqrt{2}}( |0\\rangle + |1\\rangle ) |1\\rangle + \\frac{1}{\\sqrt{2}}( |0\\rangle - |1\\rangle ) |0\\rangle - \\frac{1}{\\sqrt{2}}( |0\\rangle - |1\\rangle ) |1\\rangle \\right] $$\n",
    "\n",
    "    $$\\frac{1}{2\\sqrt{2}}\\left[|00\\rangle + |10\\rangle - |01\\rangle -|11\\rangle +|00\\rangle -|10\\rangle - |01\\rangle + |11\\rangle \\right] $$\n",
    "\n",
    "    $$\\frac{1}{2\\sqrt{2}} \\left[2|00\\rangle - 2|01\\rangle \\right]$$\n",
    "\n",
    "Thus, we can see that by applying the hadamard in the first qubit after the function , we created interference, leaving only states with first qubit=0. We have a constant function. \n",
    "\n",
    "If we repeat the process for CNOT function instead, we will be measuring state $|1\\rangle$ in the first qubit instead. \n"
   ]
  },
  {
   "cell_type": "markdown",
   "id": "b2096c6b",
   "metadata": {},
   "source": [
    "## 4. Deutsch-Jozsa algorithm <a id='deutsch-josza'></a>"
   ]
  },
  {
   "cell_type": "markdown",
   "id": "8528e49a",
   "metadata": {},
   "source": [
    "Deutsch-Josza algorithm is the generalization of the previous algorithm for boolean functions for $n$ bit strings rather than single bit string inputs.\n",
    "\n",
    "<p align=\"center\">\n",
    "  <img width=\"700\" height=\"200\" src=\"images/dj.png\">\n",
    "</p>\n",
    "\n",
    "The mechanics is essentially the same here, the only differences are:\n",
    "\n",
    "* Hadamard uniform superposition over all qubits instead of a single qubit\n",
    "* We will measure all input qubits instead of the single qubit\n",
    "* $P(000 \\dots 0)=0$ if the function is **constant**\n",
    "* $P(111 \\dots 1)=1$ if the function is **balanced**\n"
   ]
  },
  {
   "cell_type": "markdown",
   "id": "d1019120",
   "metadata": {},
   "source": [
    "##### <span style=\"color: red;\">Exercise 5:</span> - Suppose that the black-box function is the XOR function. Implement the full deutsch-josza algorithm. "
   ]
  },
  {
   "cell_type": "code",
   "execution_count": 33,
   "id": "f9c7b622",
   "metadata": {},
   "outputs": [],
   "source": [
    "def deutsch_jozsa(U_f=None, n_qubits=3):\n",
    "\n",
    "    cr = ClassicalRegister(n_qubits-1)\n",
    "    qr = QuantumRegister(n_qubits-1)\n",
    "    ancilla = QuantumRegister(1)\n",
    "    qc = QuantumCircuit(qr,ancilla,cr)\n",
    "\n",
    "    # qubits input\n",
    "\n",
    "    #ancilla\n",
    "\n",
    "    #compose circuit with U_f\n",
    "    qc = qc.compose(U_f)\n",
    "\n",
    "    #interference input qubits\n",
    "        \n",
    "    #measure the input qubits \n",
    "    \n",
    "    return qc"
   ]
  },
  {
   "cell_type": "code",
   "execution_count": null,
   "id": "f7c02200",
   "metadata": {},
   "outputs": [],
   "source": [
    "u_f = xor_function()\n",
    "qc = deutsch_jozsa(U_f=u_f, n_qubits=3)\n",
    "qc.draw(output=\"mpl\")"
   ]
  },
  {
   "cell_type": "code",
   "execution_count": null,
   "id": "705b16a0",
   "metadata": {},
   "outputs": [],
   "source": [
    "counts = execute_circuit(qc, shots=1024)\n",
    "plot_histogram(counts)"
   ]
  },
  {
   "cell_type": "markdown",
   "id": "ba814744",
   "metadata": {},
   "source": [
    "Ciao for now :)"
   ]
  }
 ],
 "metadata": {
  "interpreter": {
   "hash": "62314c999a2395b70c6666201aadb026cfae52075e045b8f587202e06e575832"
  },
  "kernelspec": {
   "display_name": "Python 3 (ipykernel)",
   "language": "python",
   "name": "python3"
  },
  "language_info": {
   "codemirror_mode": {
    "name": "ipython",
    "version": 3
   },
   "file_extension": ".py",
   "mimetype": "text/x-python",
   "name": "python",
   "nbconvert_exporter": "python",
   "pygments_lexer": "ipython3",
   "version": "3.10.4"
  }
 },
 "nbformat": 4,
 "nbformat_minor": 5
}
